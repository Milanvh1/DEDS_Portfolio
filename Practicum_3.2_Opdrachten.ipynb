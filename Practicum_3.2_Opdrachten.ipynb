{
 "cells": [
  {
   "cell_type": "markdown",
   "metadata": {},
   "source": [
    "# De Data structuten die wij hebben gekozen zijn; \"List\", \"Dictionary\" en \"Set\"."
   ]
  },
  {
   "cell_type": "markdown",
   "metadata": {},
   "source": [
    "### List Algoritme\n",
    "Lineaire zoeken:"
   ]
  },
  {
   "cell_type": "code",
   "execution_count": 1,
   "metadata": {},
   "outputs": [],
   "source": [
    "def linear_search(lst, target):\n",
    "    for i, item in enumerate(lst):\n",
    "        if item == target:\n",
    "            return i\n",
    "    return -1"
   ]
  },
  {
   "cell_type": "markdown",
   "metadata": {},
   "source": [
    "De big o is O(item). Dit is doordat er hier maar 1 for loop is met 1 parameter."
   ]
  },
  {
   "cell_type": "markdown",
   "metadata": {},
   "source": [
    "Dictionary Algoritme"
   ]
  },
  {
   "cell_type": "code",
   "execution_count": 2,
   "metadata": {},
   "outputs": [],
   "source": [
    "def count_frequency(lst):\n",
    "    frequency = {}\n",
    "    for item in lst:\n",
    "        if item in frequency:\n",
    "            frequency[item] += 1\n",
    "        else:\n",
    "            frequency[item] = 1\n",
    "    return frequency"
   ]
  },
  {
   "cell_type": "markdown",
   "metadata": {},
   "source": [
    "De big o is O(item). Dit komt doordat er hier maar 1 for loop is met 1 parameter."
   ]
  },
  {
   "cell_type": "markdown",
   "metadata": {},
   "source": [
    "Set Algoritme"
   ]
  },
  {
   "cell_type": "code",
   "execution_count": 7,
   "metadata": {},
   "outputs": [],
   "source": [
    "def has_duplicates(lst):\n",
    "    n = len(lst)\n",
    "    for i in range(n):\n",
    "        for j in range(i + 1, n):\n",
    "            if lst[i] == lst[j]:\n",
    "                return True\n",
    "    return False\n"
   ]
  },
  {
   "cell_type": "markdown",
   "metadata": {},
   "source": [
    "De big o is O(n^2). Dit komt doordat er hier 2 for loops zijn. "
   ]
  },
  {
   "cell_type": "code",
   "execution_count": 6,
   "metadata": {},
   "outputs": [
    {
     "name": "stdout",
     "output_type": "stream",
     "text": [
      "Opgeslagen getallen:\n",
      "10\n",
      "20\n",
      "30\n"
     ]
    }
   ],
   "source": [
    "class GetallenOpslag:\n",
    "    def __init__(self):\n",
    "        self.getallen = []\n",
    "\n",
    "    def voeg_toe(self, getal):\n",
    "        self.getallen.append(getal)\n",
    "\n",
    "    def toon_getallen(self):\n",
    "        print(\"Opgeslagen getallen:\")\n",
    "        for getal in self.getallen:\n",
    "            print(getal)\n",
    "\n",
    "opslag = GetallenOpslag()\n",
    "\n",
    "opslag.voeg_toe(10)\n",
    "opslag.voeg_toe(20)\n",
    "opslag.voeg_toe(30)\n",
    "\n",
    "opslag.toon_getallen()\n"
   ]
  }
 ],
 "metadata": {
  "kernelspec": {
   "display_name": "Python 3",
   "language": "python",
   "name": "python3"
  },
  "language_info": {
   "codemirror_mode": {
    "name": "ipython",
    "version": 3
   },
   "file_extension": ".py",
   "mimetype": "text/x-python",
   "name": "python",
   "nbconvert_exporter": "python",
   "pygments_lexer": "ipython3",
   "version": "3.12.2"
  }
 },
 "nbformat": 4,
 "nbformat_minor": 2
}
