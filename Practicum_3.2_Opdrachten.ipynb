{
 "cells": [
  {
   "cell_type": "markdown",
   "metadata": {},
   "source": [
    "\n",
    "Opdracht na HC 2\n",
    "\n",
    "https://www.geeksforgeeks.org/python-data-structures/ <br>\n",
    "Bestudeer de link hierboven om bekend te raken met de datastructuren van Python\n",
    "Kies ten minste drie van de datastructuren van python uit\n",
    "Zoek online op per datastructuur die je gekozen hebt hoe deze wordt gebruikt in een bekend algoritme en onderzoek (zoek op) daarvan de complexiteit (big oh). Zorg ervoor dat je de big oh kunt onderbouwen.\n",
    "Schrijf een Python programma waarin je de datastructuren gebruikt om data in op te slaan en weer op te halen. Hiervoor mag je een bekend algoritme gebruiken, maar dat hoeft niet.\n",
    "Schrijf je bevindingen op in je portfolio. Onderbouw de big oh.\n",
    "Gebruik geen chatgpt. Je mag natuurlijk wel je docent vragen stellen ;)"
   ]
  },
  {
   "cell_type": "code",
   "execution_count": null,
   "metadata": {
    "vscode": {
     "languageId": "plaintext"
    }
   },
   "outputs": [],
   "source": []
  }
 ],
 "metadata": {
  "language_info": {
   "name": "python"
  }
 },
 "nbformat": 4,
 "nbformat_minor": 2
}
