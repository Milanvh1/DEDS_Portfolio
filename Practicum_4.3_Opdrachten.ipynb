{
 "cells": [
  {
   "cell_type": "code",
   "execution_count": 11,
   "metadata": {},
   "outputs": [],
   "source": [
    "import pandas as pd\n",
    "import pyodbc\n",
    "import sqlite3"
   ]
  },
  {
   "cell_type": "code",
   "execution_count": 12,
   "metadata": {},
   "outputs": [
    {
     "data": {
      "text/plain": [
       "<pyodbc.Cursor at 0x23827a7d730>"
      ]
     },
     "execution_count": 12,
     "metadata": {},
     "output_type": "execute_result"
    }
   ],
   "source": [
    "DB = {'servername': 'LAPTOP-V51G2LUG\\SQLEXPRESS01',\n",
    "      'database': 'Great_Outdoors'}\n",
    "\n",
    "export_conn = pyodbc.connect('DRIVER={SQL Server};SERVER=' + DB['servername'] + \n",
    "                             ';DATABASE=' + DB['database'] + ';Trusted_Connection=yes')\n",
    "export_cursor = export_conn.cursor()\n",
    "export_cursor "
   ]
  },
  {
   "cell_type": "code",
   "execution_count": 14,
   "metadata": {},
   "outputs": [
    {
     "data": {
      "text/html": [
       "<div>\n",
       "<style scoped>\n",
       "    .dataframe tbody tr th:only-of-type {\n",
       "        vertical-align: middle;\n",
       "    }\n",
       "\n",
       "    .dataframe tbody tr th {\n",
       "        vertical-align: top;\n",
       "    }\n",
       "\n",
       "    .dataframe thead th {\n",
       "        text-align: right;\n",
       "    }\n",
       "</style>\n",
       "<table border=\"1\" class=\"dataframe\">\n",
       "  <thead>\n",
       "    <tr style=\"text-align: right;\">\n",
       "      <th></th>\n",
       "      <th>JOB_POSITION_EN</th>\n",
       "      <th>EXTENSION</th>\n",
       "      <th>FAX</th>\n",
       "      <th>EMAIL</th>\n",
       "      <th>GENDER</th>\n",
       "      <th>RETAILER_SITE_RETAILER_SITE_CODE</th>\n",
       "      <th>RETAILER_SITE_ADDRESS1</th>\n",
       "      <th>RETAILER_SITE_ADDRESS2</th>\n",
       "      <th>RETAILER_SITE_CITY</th>\n",
       "      <th>RETAILER_SITE_REGION</th>\n",
       "      <th>...</th>\n",
       "      <th>RETAILER_SITE_ACTIVE_INDICATOR</th>\n",
       "      <th>RETAILER_RETAILER_CODE</th>\n",
       "      <th>RETAILER_RETAILER_CODEMR</th>\n",
       "      <th>RETAILER_COMPANY_NAME</th>\n",
       "      <th>COUNTRY_COUNTRY_CODE</th>\n",
       "      <th>COUNTRY_COUNTRY_EN</th>\n",
       "      <th>COUNTRY_FLAG_IMAGE</th>\n",
       "      <th>RETAILER_CONTACT_RETAILER_CONTACT_CODE</th>\n",
       "      <th>RETAILER_CONTACT_FIRST_NAME</th>\n",
       "      <th>RETAILER_CONTACT_LAST_NAME</th>\n",
       "    </tr>\n",
       "  </thead>\n",
       "  <tbody>\n",
       "  </tbody>\n",
       "</table>\n",
       "<p>0 rows × 22 columns</p>\n",
       "</div>"
      ],
      "text/plain": [
       "Empty DataFrame\n",
       "Columns: [JOB_POSITION_EN, EXTENSION, FAX, EMAIL, GENDER, RETAILER_SITE_RETAILER_SITE_CODE, RETAILER_SITE_ADDRESS1, RETAILER_SITE_ADDRESS2, RETAILER_SITE_CITY, RETAILER_SITE_REGION, RETAILER_SITE_POSTAL_ZONE, RETAILER_SITE_COUNTRY_CODE, RETAILER_SITE_ACTIVE_INDICATOR, RETAILER_RETAILER_CODE, RETAILER_RETAILER_CODEMR, RETAILER_COMPANY_NAME, COUNTRY_COUNTRY_CODE, COUNTRY_COUNTRY_EN, COUNTRY_FLAG_IMAGE, RETAILER_CONTACT_RETAILER_CONTACT_CODE, RETAILER_CONTACT_FIRST_NAME, RETAILER_CONTACT_LAST_NAME]\n",
       "Index: []\n",
       "\n",
       "[0 rows x 22 columns]"
      ]
     },
     "execution_count": 14,
     "metadata": {},
     "output_type": "execute_result"
    }
   ],
   "source": [
    "big_outdoors_conn = sqlite3.connect(\"Great_Outdoors.db\")\n",
    "retailer_contact_dimensie = pd.read_sql(\"SELECT * FROM RETAILER_CONTACT\", big_outdoors_conn)\n",
    "retailer_contact_dimensie"
   ]
  },
  {
   "cell_type": "code",
   "execution_count": 16,
   "metadata": {},
   "outputs": [
    {
     "ename": "ProgrammingError",
     "evalue": "Attempt to use a closed cursor.",
     "output_type": "error",
     "traceback": [
      "\u001b[1;31m---------------------------------------------------------------------------\u001b[0m",
      "\u001b[1;31mProgrammingError\u001b[0m                          Traceback (most recent call last)",
      "Cell \u001b[1;32mIn[16], line 10\u001b[0m\n\u001b[0;32m      7\u001b[0m         \u001b[38;5;28mprint\u001b[39m(query)    \n\u001b[0;32m      9\u001b[0m export_conn\u001b[38;5;241m.\u001b[39mcommit()\n\u001b[1;32m---> 10\u001b[0m \u001b[43mexport_cursor\u001b[49m\u001b[38;5;241;43m.\u001b[39;49m\u001b[43mclose\u001b[49m\u001b[43m(\u001b[49m\u001b[43m)\u001b[49m        \n",
      "\u001b[1;31mProgrammingError\u001b[0m: Attempt to use a closed cursor."
     ]
    }
   ],
   "source": [
    "for index, row in retailer_contact_dimensie.iterrows():\n",
    "    \n",
    "    try: \n",
    "        query = f\"INSERT INTO RETAILER_CONTACT VALUES ({row['COUNTRY_COUNTRY_CODE'] })\"\n",
    "        export_cursor.execute(query)\n",
    "    except pyodbc.Error:\n",
    "        print(query)    \n",
    "\n",
    "export_conn.commit()\n",
    "export_cursor.close()        "
   ]
  }
 ],
 "metadata": {
  "kernelspec": {
   "display_name": "deds-portfolio-A0j0CiaO-py3.12",
   "language": "python",
   "name": "python3"
  },
  "language_info": {
   "codemirror_mode": {
    "name": "ipython",
    "version": 3
   },
   "file_extension": ".py",
   "mimetype": "text/x-python",
   "name": "python",
   "nbconvert_exporter": "python",
   "pygments_lexer": "ipython3",
   "version": "3.11.0"
  }
 },
 "nbformat": 4,
 "nbformat_minor": 2
}
