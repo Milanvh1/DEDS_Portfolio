{
 "cells": [
  {
   "cell_type": "markdown",
   "metadata": {},
   "source": [
    "# Practicumopdrachten Week 2.2 (eerste kans)"
   ]
  },
  {
   "cell_type": "markdown",
   "metadata": {},
   "source": [
    "## Dependencies importeren"
   ]
  },
  {
   "cell_type": "markdown",
   "metadata": {},
   "source": [
    "Importeer in het codeblok hieronder de packages die worden gebruikt om data in te lezen. Geef er ook de gebruikelijke aliassen aan.<br>\n",
    "N.B.: de 2 reeds geschreven coderegels zorgen ervoor dat eventuele warnings, die code-outputs lelijker maken, uitgezet worden."
   ]
  },
  {
   "cell_type": "code",
   "execution_count": 11,
   "metadata": {},
   "outputs": [],
   "source": [
    "import warnings\n",
    "warnings.simplefilter('ignore')\n",
    "import sqlite3\n",
    "import pandas as pd"
   ]
  },
  {
   "cell_type": "markdown",
   "metadata": {},
   "source": [
    "Zet het bestand go_sales.sqlite in hetzelfde mapje als dit notebook."
   ]
  },
  {
   "cell_type": "markdown",
   "metadata": {},
   "source": [
    "## Databasetabel inlezen"
   ]
  },
  {
   "cell_type": "markdown",
   "metadata": {},
   "source": [
    "Creëer een databaseconnectie met het bestand go_sales.sqlite."
   ]
  },
  {
   "cell_type": "code",
   "execution_count": 12,
   "metadata": {},
   "outputs": [],
   "source": [
    "database_connection = sqlite3.connect('go_sales.sqlite')"
   ]
  },
  {
   "cell_type": "markdown",
   "metadata": {},
   "source": [
    "Gebruik de onderstaande sql_query om te achterhalen welke databasetabellen in go_sales zitten."
   ]
  },
  {
   "cell_type": "code",
   "execution_count": 139,
   "metadata": {},
   "outputs": [
    {
     "name": "stdout",
     "output_type": "stream",
     "text": [
      "                name\n",
      "0            country\n",
      "1      order_details\n",
      "2       order_header\n",
      "3       order_method\n",
      "4            product\n",
      "5       product_line\n",
      "6       product_type\n",
      "7      retailer_site\n",
      "8      return_reason\n",
      "9      returned_item\n",
      "10      sales_branch\n",
      "11  SALES_TARGETData\n",
      "12   sqlite_sequence\n",
      "13       sales_staff\n"
     ]
    }
   ],
   "source": [
    "sql_query = \"SELECT name FROM sqlite_master WHERE type='table';\"\n",
    "tables = pd.read_sql_query(sql_query, database_connection)\n",
    "\n",
    "print(tables)"
   ]
  },
  {
   "cell_type": "markdown",
   "metadata": {},
   "source": [
    "Gebruik de gecreëerde databaseconnectie om de resultaten van de volgende query in een DataFrame te zetten:<br>\n",
    "*SELECT * FROM sales_staff* "
   ]
  },
  {
   "cell_type": "code",
   "execution_count": 13,
   "metadata": {},
   "outputs": [
    {
     "name": "stdout",
     "output_type": "stream",
     "text": [
      "    SALES_STAFF_CODE FIRST_NAME       LAST_NAME                   POSITION_EN  \\\n",
      "0                100     Tuomas      Savolainen  Level 2 Sales Representative   \n",
      "1                101   Chang-ho             Kim  Level 2 Sales Representative   \n",
      "2                102    Jung-ho            Choi  Level 3 Sales Representative   \n",
      "3                103  Kwei-Ping             Kao  Level 2 Sales Representative   \n",
      "4                104  Chin-Tsai            Fang  Level 3 Sales Representative   \n",
      "..               ...        ...             ...                           ...   \n",
      "99                97     Viviam          Barros  Level 3 Sales Representative   \n",
      "100               98    Eduardo       Guimarães  Level 2 Sales Representative   \n",
      "101               99     Helena        Lindholm  Level 3 Sales Representative   \n",
      "102             1008      Milan  van Heijningen                Branch Manager   \n",
      "103             1008      Milan  van Heijningen                Branch Manager   \n",
      "\n",
      "              WORK_PHONE EXTENSION                  FAX  \\\n",
      "0    +358(0)17 - 433 127       825  +358(0)17 - 433 129   \n",
      "1          82-2-778-6587      1228        82-2-778-6586   \n",
      "2          82-2-778-6587      2641        82-2-778-6586   \n",
      "3        886-2-2975-1988      1541      886-2-2989-4978   \n",
      "4        886-2-2975-1988      2311      886-2-2989-4978   \n",
      "..                   ...       ...                  ...   \n",
      "99     +55 (11) 344-4444      3364    +55 (11) 333-2223   \n",
      "100    +55 (11) 344-4444      1442    +55 (11) 333-2223   \n",
      "101  +358(0)17 - 433 127       489  +358(0)17 - 433 129   \n",
      "102            611956077       398            611956077   \n",
      "103            611956077       398            611956077   \n",
      "\n",
      "                       EMAIL  DATE_HIRED SALES_BRANCH_CODE TRIAL888  \\\n",
      "0    TSavolainen@grtd123.com   23-7-2014                31        T   \n",
      "1           CKim@grtd123.com  15-12-2014                32        T   \n",
      "2          JChoi@grtd123.com  27-11-2014                32        T   \n",
      "3          KKwao@grtd123.com   7-10-2014                33        T   \n",
      "4           CFon@grtd123.com    8-5-2012                33        T   \n",
      "..                       ...         ...               ...      ...   \n",
      "99       VBarros@grtd123.com   10-2-2017                30        T   \n",
      "100   EGuimaraes@grtd123.com   14-2-2015                30        T   \n",
      "101    HLindholm@grtd123.com   17-8-2013                31        T   \n",
      "102       hallo123@gmail.com       -2005                35        T   \n",
      "103       hallo123@gmail.com       -2005                35        T   \n",
      "\n",
      "                FULL_NAME  \n",
      "0       Tuomas Savolainen  \n",
      "1            Chang-ho Kim  \n",
      "2            Jung-ho Choi  \n",
      "3           Kwei-Ping Kao  \n",
      "4          Chin-Tsai Fang  \n",
      "..                    ...  \n",
      "99          Viviam Barros  \n",
      "100     Eduardo Guimarães  \n",
      "101       Helena Lindholm  \n",
      "102  Milan van Heijningen  \n",
      "103  Milan van Heijningen  \n",
      "\n",
      "[104 rows x 12 columns]\n"
     ]
    }
   ],
   "source": [
    "sales_staff = pd.read_sql_query(\"SELECT * FROM sales_staff\", database_connection)\n",
    "\n",
    "print(sales_staff)"
   ]
  },
  {
   "cell_type": "markdown",
   "metadata": {},
   "source": [
    "## DataFrames uitsplitsen en opbouwen met Series"
   ]
  },
  {
   "cell_type": "markdown",
   "metadata": {},
   "source": [
    "De volgende 5 kolommen hebben betrekking op de contactdetails van elke medewerker in dit DataFrame:\n",
    "- SALES_STAFF_CODE\n",
    "- WORK_PHONE\n",
    "- EXTENSION\n",
    "- FAX\n",
    "- EMAIL\n",
    "\n",
    "Maak van elk van deze 5 kolommen een serie."
   ]
  },
  {
   "cell_type": "code",
   "execution_count": 23,
   "metadata": {},
   "outputs": [],
   "source": [
    "sales_staff_code_series = df['SALES_STAFF_CODE']\n",
    "work_phone_series = df['WORK_PHONE']\n",
    "extension_series = df['EXTENSION']\n",
    "fax_series = df['FAX']\n",
    "email_series = df['EMAIL']"
   ]
  },
  {
   "cell_type": "markdown",
   "metadata": {},
   "source": [
    "Zet allevijf gecreëerde series als kolommen naast elkaar in een DataFrame (*contact_details*). Gebruik pd.concat(...)<br>\n",
    "Hulpvraag: welke waarde geef je aan de axis-parameter?"
   ]
  },
  {
   "cell_type": "code",
   "execution_count": 24,
   "metadata": {},
   "outputs": [
    {
     "name": "stdout",
     "output_type": "stream",
     "text": [
      "    SALES_STAFF_CODE           WORK_PHONE EXTENSION                  FAX  \\\n",
      "0                100  +358(0)17 - 433 127       825  +358(0)17 - 433 129   \n",
      "1                101        82-2-778-6587      1228        82-2-778-6586   \n",
      "2                102        82-2-778-6587      2641        82-2-778-6586   \n",
      "3                103      886-2-2975-1988      1541      886-2-2989-4978   \n",
      "4                104      886-2-2975-1988      2311      886-2-2989-4978   \n",
      "..               ...                  ...       ...                  ...   \n",
      "99                97    +55 (11) 344-4444      3364    +55 (11) 333-2223   \n",
      "100               98    +55 (11) 344-4444      1442    +55 (11) 333-2223   \n",
      "101               99  +358(0)17 - 433 127       489  +358(0)17 - 433 129   \n",
      "102             1008            611956077       398            611956077   \n",
      "103             1008            611956077       398            611956077   \n",
      "\n",
      "                       EMAIL  \n",
      "0    TSavolainen@grtd123.com  \n",
      "1           CKim@grtd123.com  \n",
      "2          JChoi@grtd123.com  \n",
      "3          KKwao@grtd123.com  \n",
      "4           CFon@grtd123.com  \n",
      "..                       ...  \n",
      "99       VBarros@grtd123.com  \n",
      "100   EGuimaraes@grtd123.com  \n",
      "101    HLindholm@grtd123.com  \n",
      "102       hallo123@gmail.com  \n",
      "103       hallo123@gmail.com  \n",
      "\n",
      "[104 rows x 5 columns]\n"
     ]
    }
   ],
   "source": [
    "contact_details = pd.concat([sales_staff_code_series, work_phone_series, extension_series, fax_series, email_series], axis = 1)\n",
    "\n",
    "print(contact_details)"
   ]
  },
  {
   "cell_type": "markdown",
   "metadata": {},
   "source": [
    "## Series en DataFrames maken vanuit lists en dictionaries"
   ]
  },
  {
   "cell_type": "markdown",
   "metadata": {},
   "source": [
    "Met .head(*getal*) kan je de bovenste *getal* rijen van een tabel selecteren.<br>\n",
    "Selecteer op deze manier de bovenste 5 rijen van *contact_details*.<br>\n",
    "Sla dit resultaat op in een nieuw DataFrame."
   ]
  },
  {
   "cell_type": "code",
   "execution_count": 33,
   "metadata": {},
   "outputs": [
    {
     "ename": "DatabaseError",
     "evalue": "Execution failed on sql 'SELECT     SALES_STAFF_CODE           WORK_PHONE EXTENSION                  FAX  \\\n0                100  +358(0)17 - 433 127       825  +358(0)17 - 433 129   \n1                101        82-2-778-6587      1228        82-2-778-6586   \n2                102        82-2-778-6587      2641        82-2-778-6586   \n3                103      886-2-2975-1988      1541      886-2-2989-4978   \n4                104      886-2-2975-1988      2311      886-2-2989-4978   \n..               ...                  ...       ...                  ...   \n99                97    +55 (11) 344-4444      3364    +55 (11) 333-2223   \n100               98    +55 (11) 344-4444      1442    +55 (11) 333-2223   \n101               99  +358(0)17 - 433 127       489  +358(0)17 - 433 129   \n102             1008            611956077       398            611956077   \n103             1008            611956077       398            611956077   \n\n                       EMAIL  \n0    TSavolainen@grtd123.com  \n1           CKim@grtd123.com  \n2          JChoi@grtd123.com  \n3          KKwao@grtd123.com  \n4           CFon@grtd123.com  \n..                       ...  \n99       VBarros@grtd123.com  \n100   EGuimaraes@grtd123.com  \n101    HLindholm@grtd123.com  \n102       hallo123@gmail.com  \n103       hallo123@gmail.com  \n\n[104 rows x 5 columns] FROM sales_staff;': near \"EXTENSION\": syntax error",
     "output_type": "error",
     "traceback": [
      "\u001b[1;31m---------------------------------------------------------------------------\u001b[0m",
      "\u001b[1;31mOperationalError\u001b[0m                          Traceback (most recent call last)",
      "File \u001b[1;32mc:\\Users\\mlvan\\AppData\\Local\\pypoetry\\Cache\\virtualenvs\\deds-portfolio-A0j0CiaO-py3.12\\Lib\\site-packages\\pandas\\io\\sql.py:2675\u001b[0m, in \u001b[0;36mSQLiteDatabase.execute\u001b[1;34m(self, sql, params)\u001b[0m\n\u001b[0;32m   2674\u001b[0m \u001b[38;5;28;01mtry\u001b[39;00m:\n\u001b[1;32m-> 2675\u001b[0m     \u001b[43mcur\u001b[49m\u001b[38;5;241;43m.\u001b[39;49m\u001b[43mexecute\u001b[49m\u001b[43m(\u001b[49m\u001b[43msql\u001b[49m\u001b[43m,\u001b[49m\u001b[43m \u001b[49m\u001b[38;5;241;43m*\u001b[39;49m\u001b[43margs\u001b[49m\u001b[43m)\u001b[49m\n\u001b[0;32m   2676\u001b[0m     \u001b[38;5;28;01mreturn\u001b[39;00m cur\n",
      "\u001b[1;31mOperationalError\u001b[0m: near \"EXTENSION\": syntax error",
      "\nThe above exception was the direct cause of the following exception:\n",
      "\u001b[1;31mDatabaseError\u001b[0m                             Traceback (most recent call last)",
      "Cell \u001b[1;32mIn[33], line 3\u001b[0m\n\u001b[0;32m      1\u001b[0m query \u001b[38;5;241m=\u001b[39m \u001b[38;5;124mf\u001b[39m\u001b[38;5;124m\"\u001b[39m\u001b[38;5;124mSELECT \u001b[39m\u001b[38;5;132;01m{\u001b[39;00mcontact_details\u001b[38;5;132;01m}\u001b[39;00m\u001b[38;5;124m FROM sales_staff;\u001b[39m\u001b[38;5;124m\"\u001b[39m\n\u001b[1;32m----> 3\u001b[0m top_5_rows \u001b[38;5;241m=\u001b[39m \u001b[43mpd\u001b[49m\u001b[38;5;241;43m.\u001b[39;49m\u001b[43mread_sql_query\u001b[49m\u001b[43m(\u001b[49m\u001b[43mquery\u001b[49m\u001b[43m,\u001b[49m\u001b[43m \u001b[49m\u001b[43mdatabase_connection\u001b[49m\u001b[43m)\u001b[49m\u001b[38;5;241m.\u001b[39mhead(\u001b[38;5;241m5\u001b[39m)\n\u001b[0;32m      5\u001b[0m \u001b[38;5;28mprint\u001b[39m(top_5_rows)\n",
      "File \u001b[1;32mc:\\Users\\mlvan\\AppData\\Local\\pypoetry\\Cache\\virtualenvs\\deds-portfolio-A0j0CiaO-py3.12\\Lib\\site-packages\\pandas\\io\\sql.py:526\u001b[0m, in \u001b[0;36mread_sql_query\u001b[1;34m(sql, con, index_col, coerce_float, params, parse_dates, chunksize, dtype, dtype_backend)\u001b[0m\n\u001b[0;32m    523\u001b[0m \u001b[38;5;28;01massert\u001b[39;00m dtype_backend \u001b[38;5;129;01mis\u001b[39;00m \u001b[38;5;129;01mnot\u001b[39;00m lib\u001b[38;5;241m.\u001b[39mno_default\n\u001b[0;32m    525\u001b[0m \u001b[38;5;28;01mwith\u001b[39;00m pandasSQL_builder(con) \u001b[38;5;28;01mas\u001b[39;00m pandas_sql:\n\u001b[1;32m--> 526\u001b[0m     \u001b[38;5;28;01mreturn\u001b[39;00m \u001b[43mpandas_sql\u001b[49m\u001b[38;5;241;43m.\u001b[39;49m\u001b[43mread_query\u001b[49m\u001b[43m(\u001b[49m\n\u001b[0;32m    527\u001b[0m \u001b[43m        \u001b[49m\u001b[43msql\u001b[49m\u001b[43m,\u001b[49m\n\u001b[0;32m    528\u001b[0m \u001b[43m        \u001b[49m\u001b[43mindex_col\u001b[49m\u001b[38;5;241;43m=\u001b[39;49m\u001b[43mindex_col\u001b[49m\u001b[43m,\u001b[49m\n\u001b[0;32m    529\u001b[0m \u001b[43m        \u001b[49m\u001b[43mparams\u001b[49m\u001b[38;5;241;43m=\u001b[39;49m\u001b[43mparams\u001b[49m\u001b[43m,\u001b[49m\n\u001b[0;32m    530\u001b[0m \u001b[43m        \u001b[49m\u001b[43mcoerce_float\u001b[49m\u001b[38;5;241;43m=\u001b[39;49m\u001b[43mcoerce_float\u001b[49m\u001b[43m,\u001b[49m\n\u001b[0;32m    531\u001b[0m \u001b[43m        \u001b[49m\u001b[43mparse_dates\u001b[49m\u001b[38;5;241;43m=\u001b[39;49m\u001b[43mparse_dates\u001b[49m\u001b[43m,\u001b[49m\n\u001b[0;32m    532\u001b[0m \u001b[43m        \u001b[49m\u001b[43mchunksize\u001b[49m\u001b[38;5;241;43m=\u001b[39;49m\u001b[43mchunksize\u001b[49m\u001b[43m,\u001b[49m\n\u001b[0;32m    533\u001b[0m \u001b[43m        \u001b[49m\u001b[43mdtype\u001b[49m\u001b[38;5;241;43m=\u001b[39;49m\u001b[43mdtype\u001b[49m\u001b[43m,\u001b[49m\n\u001b[0;32m    534\u001b[0m \u001b[43m        \u001b[49m\u001b[43mdtype_backend\u001b[49m\u001b[38;5;241;43m=\u001b[39;49m\u001b[43mdtype_backend\u001b[49m\u001b[43m,\u001b[49m\n\u001b[0;32m    535\u001b[0m \u001b[43m    \u001b[49m\u001b[43m)\u001b[49m\n",
      "File \u001b[1;32mc:\\Users\\mlvan\\AppData\\Local\\pypoetry\\Cache\\virtualenvs\\deds-portfolio-A0j0CiaO-py3.12\\Lib\\site-packages\\pandas\\io\\sql.py:2739\u001b[0m, in \u001b[0;36mSQLiteDatabase.read_query\u001b[1;34m(self, sql, index_col, coerce_float, parse_dates, params, chunksize, dtype, dtype_backend)\u001b[0m\n\u001b[0;32m   2728\u001b[0m \u001b[38;5;28;01mdef\u001b[39;00m \u001b[38;5;21mread_query\u001b[39m(\n\u001b[0;32m   2729\u001b[0m     \u001b[38;5;28mself\u001b[39m,\n\u001b[0;32m   2730\u001b[0m     sql,\n\u001b[1;32m   (...)\u001b[0m\n\u001b[0;32m   2737\u001b[0m     dtype_backend: DtypeBackend \u001b[38;5;241m|\u001b[39m Literal[\u001b[38;5;124m\"\u001b[39m\u001b[38;5;124mnumpy\u001b[39m\u001b[38;5;124m\"\u001b[39m] \u001b[38;5;241m=\u001b[39m \u001b[38;5;124m\"\u001b[39m\u001b[38;5;124mnumpy\u001b[39m\u001b[38;5;124m\"\u001b[39m,\n\u001b[0;32m   2738\u001b[0m ) \u001b[38;5;241m-\u001b[39m\u001b[38;5;241m>\u001b[39m DataFrame \u001b[38;5;241m|\u001b[39m Iterator[DataFrame]:\n\u001b[1;32m-> 2739\u001b[0m     cursor \u001b[38;5;241m=\u001b[39m \u001b[38;5;28;43mself\u001b[39;49m\u001b[38;5;241;43m.\u001b[39;49m\u001b[43mexecute\u001b[49m\u001b[43m(\u001b[49m\u001b[43msql\u001b[49m\u001b[43m,\u001b[49m\u001b[43m \u001b[49m\u001b[43mparams\u001b[49m\u001b[43m)\u001b[49m\n\u001b[0;32m   2740\u001b[0m     columns \u001b[38;5;241m=\u001b[39m [col_desc[\u001b[38;5;241m0\u001b[39m] \u001b[38;5;28;01mfor\u001b[39;00m col_desc \u001b[38;5;129;01min\u001b[39;00m cursor\u001b[38;5;241m.\u001b[39mdescription]\n\u001b[0;32m   2742\u001b[0m     \u001b[38;5;28;01mif\u001b[39;00m chunksize \u001b[38;5;129;01mis\u001b[39;00m \u001b[38;5;129;01mnot\u001b[39;00m \u001b[38;5;28;01mNone\u001b[39;00m:\n",
      "File \u001b[1;32mc:\\Users\\mlvan\\AppData\\Local\\pypoetry\\Cache\\virtualenvs\\deds-portfolio-A0j0CiaO-py3.12\\Lib\\site-packages\\pandas\\io\\sql.py:2687\u001b[0m, in \u001b[0;36mSQLiteDatabase.execute\u001b[1;34m(self, sql, params)\u001b[0m\n\u001b[0;32m   2684\u001b[0m     \u001b[38;5;28;01mraise\u001b[39;00m ex \u001b[38;5;28;01mfrom\u001b[39;00m \u001b[38;5;21;01minner_exc\u001b[39;00m\n\u001b[0;32m   2686\u001b[0m ex \u001b[38;5;241m=\u001b[39m DatabaseError(\u001b[38;5;124mf\u001b[39m\u001b[38;5;124m\"\u001b[39m\u001b[38;5;124mExecution failed on sql \u001b[39m\u001b[38;5;124m'\u001b[39m\u001b[38;5;132;01m{\u001b[39;00msql\u001b[38;5;132;01m}\u001b[39;00m\u001b[38;5;124m'\u001b[39m\u001b[38;5;124m: \u001b[39m\u001b[38;5;132;01m{\u001b[39;00mexc\u001b[38;5;132;01m}\u001b[39;00m\u001b[38;5;124m\"\u001b[39m)\n\u001b[1;32m-> 2687\u001b[0m \u001b[38;5;28;01mraise\u001b[39;00m ex \u001b[38;5;28;01mfrom\u001b[39;00m \u001b[38;5;21;01mexc\u001b[39;00m\n",
      "\u001b[1;31mDatabaseError\u001b[0m: Execution failed on sql 'SELECT     SALES_STAFF_CODE           WORK_PHONE EXTENSION                  FAX  \\\n0                100  +358(0)17 - 433 127       825  +358(0)17 - 433 129   \n1                101        82-2-778-6587      1228        82-2-778-6586   \n2                102        82-2-778-6587      2641        82-2-778-6586   \n3                103      886-2-2975-1988      1541      886-2-2989-4978   \n4                104      886-2-2975-1988      2311      886-2-2989-4978   \n..               ...                  ...       ...                  ...   \n99                97    +55 (11) 344-4444      3364    +55 (11) 333-2223   \n100               98    +55 (11) 344-4444      1442    +55 (11) 333-2223   \n101               99  +358(0)17 - 433 127       489  +358(0)17 - 433 129   \n102             1008            611956077       398            611956077   \n103             1008            611956077       398            611956077   \n\n                       EMAIL  \n0    TSavolainen@grtd123.com  \n1           CKim@grtd123.com  \n2          JChoi@grtd123.com  \n3          KKwao@grtd123.com  \n4           CFon@grtd123.com  \n..                       ...  \n99       VBarros@grtd123.com  \n100   EGuimaraes@grtd123.com  \n101    HLindholm@grtd123.com  \n102       hallo123@gmail.com  \n103       hallo123@gmail.com  \n\n[104 rows x 5 columns] FROM sales_staff;': near \"EXTENSION\": syntax error"
     ]
    }
   ],
   "source": [
    "query = f\"SELECT {contact_details} FROM sales_staff;\"\n",
    "\n",
    "top_5_rows = pd.read_sql_query(query, database_connection).head(5)\n",
    "\n",
    "print(top_5_rows)"
   ]
  },
  {
   "cell_type": "markdown",
   "metadata": {},
   "source": [
    "Aan deze 10 rijen met contactdetails willen we 3 kolommen toevoegen: 'FIRST_LANGUAGE', 'SECOND_LANGUAGE' & 'THIRD_LANGUAGE'.<br>\n",
    "Iedereens 'First Language' is Engels, afgekort 'EN'. Maak een lijst waarin 5x 'EN' staat.<br>\n",
    "Converteer deze lijst vervolgens naar een serie en voeg deze horizontaal samen met het resultaat van de vorige opdracht.<br>\n",
    "Vergeet niet een passende naam te geven aan de nieuw ontstane kolom."
   ]
  },
  {
   "cell_type": "code",
   "execution_count": 26,
   "metadata": {},
   "outputs": [
    {
     "ename": "DatabaseError",
     "evalue": "Execution failed on sql 'SELECT     SALES_STAFF_CODE           WORK_PHONE EXTENSION                  FAX  \\\n0                100  +358(0)17 - 433 127       825  +358(0)17 - 433 129   \n1                101        82-2-778-6587      1228        82-2-778-6586   \n2                102        82-2-778-6587      2641        82-2-778-6586   \n3                103      886-2-2975-1988      1541      886-2-2989-4978   \n4                104      886-2-2975-1988      2311      886-2-2989-4978   \n..               ...                  ...       ...                  ...   \n99                97    +55 (11) 344-4444      3364    +55 (11) 333-2223   \n100               98    +55 (11) 344-4444      1442    +55 (11) 333-2223   \n101               99  +358(0)17 - 433 127       489  +358(0)17 - 433 129   \n102             1008            611956077       398            611956077   \n103             1008            611956077       398            611956077   \n\n                       EMAIL  \n0    TSavolainen@grtd123.com  \n1           CKim@grtd123.com  \n2          JChoi@grtd123.com  \n3          KKwao@grtd123.com  \n4           CFon@grtd123.com  \n..                       ...  \n99       VBarros@grtd123.com  \n100   EGuimaraes@grtd123.com  \n101    HLindholm@grtd123.com  \n102       hallo123@gmail.com  \n103       hallo123@gmail.com  \n\n[104 rows x 5 columns] FROM sales_staff;': near \"EXTENSION\": syntax error",
     "output_type": "error",
     "traceback": [
      "\u001b[1;31m---------------------------------------------------------------------------\u001b[0m",
      "\u001b[1;31mOperationalError\u001b[0m                          Traceback (most recent call last)",
      "File \u001b[1;32mc:\\Users\\mlvan\\AppData\\Local\\pypoetry\\Cache\\virtualenvs\\deds-portfolio-A0j0CiaO-py3.12\\Lib\\site-packages\\pandas\\io\\sql.py:2675\u001b[0m, in \u001b[0;36mSQLiteDatabase.execute\u001b[1;34m(self, sql, params)\u001b[0m\n\u001b[0;32m   2674\u001b[0m \u001b[38;5;28;01mtry\u001b[39;00m:\n\u001b[1;32m-> 2675\u001b[0m     \u001b[43mcur\u001b[49m\u001b[38;5;241;43m.\u001b[39;49m\u001b[43mexecute\u001b[49m\u001b[43m(\u001b[49m\u001b[43msql\u001b[49m\u001b[43m,\u001b[49m\u001b[43m \u001b[49m\u001b[38;5;241;43m*\u001b[39;49m\u001b[43margs\u001b[49m\u001b[43m)\u001b[49m\n\u001b[0;32m   2676\u001b[0m     \u001b[38;5;28;01mreturn\u001b[39;00m cur\n",
      "\u001b[1;31mOperationalError\u001b[0m: near \"EXTENSION\": syntax error",
      "\nThe above exception was the direct cause of the following exception:\n",
      "\u001b[1;31mDatabaseError\u001b[0m                             Traceback (most recent call last)",
      "Cell \u001b[1;32mIn[26], line 3\u001b[0m\n\u001b[0;32m      1\u001b[0m query \u001b[38;5;241m=\u001b[39m \u001b[38;5;124mf\u001b[39m\u001b[38;5;124m\"\u001b[39m\u001b[38;5;124mSELECT \u001b[39m\u001b[38;5;132;01m{\u001b[39;00mcontact_details\u001b[38;5;132;01m}\u001b[39;00m\u001b[38;5;124m FROM sales_staff;\u001b[39m\u001b[38;5;124m\"\u001b[39m\n\u001b[1;32m----> 3\u001b[0m selected_columns_df \u001b[38;5;241m=\u001b[39m \u001b[43mpd\u001b[49m\u001b[38;5;241;43m.\u001b[39;49m\u001b[43mread_sql_query\u001b[49m\u001b[43m(\u001b[49m\u001b[43mquery\u001b[49m\u001b[43m,\u001b[49m\u001b[43m \u001b[49m\u001b[43mdatabase_connection\u001b[49m\u001b[43m)\u001b[49m\n\u001b[0;32m      5\u001b[0m languages_list \u001b[38;5;241m=\u001b[39m [\u001b[38;5;124m'\u001b[39m\u001b[38;5;124mEN\u001b[39m\u001b[38;5;124m'\u001b[39m] \u001b[38;5;241m*\u001b[39m \u001b[38;5;241m5\u001b[39m\n\u001b[0;32m      6\u001b[0m languages_series \u001b[38;5;241m=\u001b[39m pd\u001b[38;5;241m.\u001b[39mSeries(languages_list, name\u001b[38;5;241m=\u001b[39m\u001b[38;5;124m'\u001b[39m\u001b[38;5;124mFIRST_LANGUAGE\u001b[39m\u001b[38;5;124m'\u001b[39m)\n",
      "File \u001b[1;32mc:\\Users\\mlvan\\AppData\\Local\\pypoetry\\Cache\\virtualenvs\\deds-portfolio-A0j0CiaO-py3.12\\Lib\\site-packages\\pandas\\io\\sql.py:526\u001b[0m, in \u001b[0;36mread_sql_query\u001b[1;34m(sql, con, index_col, coerce_float, params, parse_dates, chunksize, dtype, dtype_backend)\u001b[0m\n\u001b[0;32m    523\u001b[0m \u001b[38;5;28;01massert\u001b[39;00m dtype_backend \u001b[38;5;129;01mis\u001b[39;00m \u001b[38;5;129;01mnot\u001b[39;00m lib\u001b[38;5;241m.\u001b[39mno_default\n\u001b[0;32m    525\u001b[0m \u001b[38;5;28;01mwith\u001b[39;00m pandasSQL_builder(con) \u001b[38;5;28;01mas\u001b[39;00m pandas_sql:\n\u001b[1;32m--> 526\u001b[0m     \u001b[38;5;28;01mreturn\u001b[39;00m \u001b[43mpandas_sql\u001b[49m\u001b[38;5;241;43m.\u001b[39;49m\u001b[43mread_query\u001b[49m\u001b[43m(\u001b[49m\n\u001b[0;32m    527\u001b[0m \u001b[43m        \u001b[49m\u001b[43msql\u001b[49m\u001b[43m,\u001b[49m\n\u001b[0;32m    528\u001b[0m \u001b[43m        \u001b[49m\u001b[43mindex_col\u001b[49m\u001b[38;5;241;43m=\u001b[39;49m\u001b[43mindex_col\u001b[49m\u001b[43m,\u001b[49m\n\u001b[0;32m    529\u001b[0m \u001b[43m        \u001b[49m\u001b[43mparams\u001b[49m\u001b[38;5;241;43m=\u001b[39;49m\u001b[43mparams\u001b[49m\u001b[43m,\u001b[49m\n\u001b[0;32m    530\u001b[0m \u001b[43m        \u001b[49m\u001b[43mcoerce_float\u001b[49m\u001b[38;5;241;43m=\u001b[39;49m\u001b[43mcoerce_float\u001b[49m\u001b[43m,\u001b[49m\n\u001b[0;32m    531\u001b[0m \u001b[43m        \u001b[49m\u001b[43mparse_dates\u001b[49m\u001b[38;5;241;43m=\u001b[39;49m\u001b[43mparse_dates\u001b[49m\u001b[43m,\u001b[49m\n\u001b[0;32m    532\u001b[0m \u001b[43m        \u001b[49m\u001b[43mchunksize\u001b[49m\u001b[38;5;241;43m=\u001b[39;49m\u001b[43mchunksize\u001b[49m\u001b[43m,\u001b[49m\n\u001b[0;32m    533\u001b[0m \u001b[43m        \u001b[49m\u001b[43mdtype\u001b[49m\u001b[38;5;241;43m=\u001b[39;49m\u001b[43mdtype\u001b[49m\u001b[43m,\u001b[49m\n\u001b[0;32m    534\u001b[0m \u001b[43m        \u001b[49m\u001b[43mdtype_backend\u001b[49m\u001b[38;5;241;43m=\u001b[39;49m\u001b[43mdtype_backend\u001b[49m\u001b[43m,\u001b[49m\n\u001b[0;32m    535\u001b[0m \u001b[43m    \u001b[49m\u001b[43m)\u001b[49m\n",
      "File \u001b[1;32mc:\\Users\\mlvan\\AppData\\Local\\pypoetry\\Cache\\virtualenvs\\deds-portfolio-A0j0CiaO-py3.12\\Lib\\site-packages\\pandas\\io\\sql.py:2739\u001b[0m, in \u001b[0;36mSQLiteDatabase.read_query\u001b[1;34m(self, sql, index_col, coerce_float, parse_dates, params, chunksize, dtype, dtype_backend)\u001b[0m\n\u001b[0;32m   2728\u001b[0m \u001b[38;5;28;01mdef\u001b[39;00m \u001b[38;5;21mread_query\u001b[39m(\n\u001b[0;32m   2729\u001b[0m     \u001b[38;5;28mself\u001b[39m,\n\u001b[0;32m   2730\u001b[0m     sql,\n\u001b[1;32m   (...)\u001b[0m\n\u001b[0;32m   2737\u001b[0m     dtype_backend: DtypeBackend \u001b[38;5;241m|\u001b[39m Literal[\u001b[38;5;124m\"\u001b[39m\u001b[38;5;124mnumpy\u001b[39m\u001b[38;5;124m\"\u001b[39m] \u001b[38;5;241m=\u001b[39m \u001b[38;5;124m\"\u001b[39m\u001b[38;5;124mnumpy\u001b[39m\u001b[38;5;124m\"\u001b[39m,\n\u001b[0;32m   2738\u001b[0m ) \u001b[38;5;241m-\u001b[39m\u001b[38;5;241m>\u001b[39m DataFrame \u001b[38;5;241m|\u001b[39m Iterator[DataFrame]:\n\u001b[1;32m-> 2739\u001b[0m     cursor \u001b[38;5;241m=\u001b[39m \u001b[38;5;28;43mself\u001b[39;49m\u001b[38;5;241;43m.\u001b[39;49m\u001b[43mexecute\u001b[49m\u001b[43m(\u001b[49m\u001b[43msql\u001b[49m\u001b[43m,\u001b[49m\u001b[43m \u001b[49m\u001b[43mparams\u001b[49m\u001b[43m)\u001b[49m\n\u001b[0;32m   2740\u001b[0m     columns \u001b[38;5;241m=\u001b[39m [col_desc[\u001b[38;5;241m0\u001b[39m] \u001b[38;5;28;01mfor\u001b[39;00m col_desc \u001b[38;5;129;01min\u001b[39;00m cursor\u001b[38;5;241m.\u001b[39mdescription]\n\u001b[0;32m   2742\u001b[0m     \u001b[38;5;28;01mif\u001b[39;00m chunksize \u001b[38;5;129;01mis\u001b[39;00m \u001b[38;5;129;01mnot\u001b[39;00m \u001b[38;5;28;01mNone\u001b[39;00m:\n",
      "File \u001b[1;32mc:\\Users\\mlvan\\AppData\\Local\\pypoetry\\Cache\\virtualenvs\\deds-portfolio-A0j0CiaO-py3.12\\Lib\\site-packages\\pandas\\io\\sql.py:2687\u001b[0m, in \u001b[0;36mSQLiteDatabase.execute\u001b[1;34m(self, sql, params)\u001b[0m\n\u001b[0;32m   2684\u001b[0m     \u001b[38;5;28;01mraise\u001b[39;00m ex \u001b[38;5;28;01mfrom\u001b[39;00m \u001b[38;5;21;01minner_exc\u001b[39;00m\n\u001b[0;32m   2686\u001b[0m ex \u001b[38;5;241m=\u001b[39m DatabaseError(\u001b[38;5;124mf\u001b[39m\u001b[38;5;124m\"\u001b[39m\u001b[38;5;124mExecution failed on sql \u001b[39m\u001b[38;5;124m'\u001b[39m\u001b[38;5;132;01m{\u001b[39;00msql\u001b[38;5;132;01m}\u001b[39;00m\u001b[38;5;124m'\u001b[39m\u001b[38;5;124m: \u001b[39m\u001b[38;5;132;01m{\u001b[39;00mexc\u001b[38;5;132;01m}\u001b[39;00m\u001b[38;5;124m\"\u001b[39m)\n\u001b[1;32m-> 2687\u001b[0m \u001b[38;5;28;01mraise\u001b[39;00m ex \u001b[38;5;28;01mfrom\u001b[39;00m \u001b[38;5;21;01mexc\u001b[39;00m\n",
      "\u001b[1;31mDatabaseError\u001b[0m: Execution failed on sql 'SELECT     SALES_STAFF_CODE           WORK_PHONE EXTENSION                  FAX  \\\n0                100  +358(0)17 - 433 127       825  +358(0)17 - 433 129   \n1                101        82-2-778-6587      1228        82-2-778-6586   \n2                102        82-2-778-6587      2641        82-2-778-6586   \n3                103      886-2-2975-1988      1541      886-2-2989-4978   \n4                104      886-2-2975-1988      2311      886-2-2989-4978   \n..               ...                  ...       ...                  ...   \n99                97    +55 (11) 344-4444      3364    +55 (11) 333-2223   \n100               98    +55 (11) 344-4444      1442    +55 (11) 333-2223   \n101               99  +358(0)17 - 433 127       489  +358(0)17 - 433 129   \n102             1008            611956077       398            611956077   \n103             1008            611956077       398            611956077   \n\n                       EMAIL  \n0    TSavolainen@grtd123.com  \n1           CKim@grtd123.com  \n2          JChoi@grtd123.com  \n3          KKwao@grtd123.com  \n4           CFon@grtd123.com  \n..                       ...  \n99       VBarros@grtd123.com  \n100   EGuimaraes@grtd123.com  \n101    HLindholm@grtd123.com  \n102       hallo123@gmail.com  \n103       hallo123@gmail.com  \n\n[104 rows x 5 columns] FROM sales_staff;': near \"EXTENSION\": syntax error"
     ]
    }
   ],
   "source": [
    "query = f\"SELECT {contact_details} FROM sales_staff;\"\n",
    "\n",
    "selected_columns_df = pd.read_sql_query(query, database_connection)\n",
    "\n",
    "languages_list = ['EN'] * 5\n",
    "languages_series = pd.Series(languages_list, name='FIRST_LANGUAGE')\n",
    "\n",
    "result_df = pd.concat([selected_columns_df, languages_series], axis=1)\n",
    "\n",
    "print(result_df)\n"
   ]
  },
  {
   "cell_type": "markdown",
   "metadata": {},
   "source": [
    "Maak nu de tweede kolom ('SECOND_LANGUAGE'). Maak daarvoor een dictionary, met daarin...\n",
    "- Als keys: alle indexen uit het resultaat van het vorige codeblok.\n",
    "- Als values: bij de eerste 3 elementen 'FR' (Frankrijk), bij de laatste 2 'DE' (Duitsland).\n",
    "\n",
    "Maak vervolgens ook hier weer een serie van en voeg ook deze weer horizontaal samen met het rsultaat van de vorige opdracht.<br>\n",
    "Vergeet niet een passende naam te geven aan de nieuw ontstane kolom."
   ]
  },
  {
   "cell_type": "code",
   "execution_count": 27,
   "metadata": {},
   "outputs": [
    {
     "ename": "DatabaseError",
     "evalue": "Execution failed on sql 'SELECT     SALES_STAFF_CODE           WORK_PHONE EXTENSION                  FAX  \\\n0                100  +358(0)17 - 433 127       825  +358(0)17 - 433 129   \n1                101        82-2-778-6587      1228        82-2-778-6586   \n2                102        82-2-778-6587      2641        82-2-778-6586   \n3                103      886-2-2975-1988      1541      886-2-2989-4978   \n4                104      886-2-2975-1988      2311      886-2-2989-4978   \n..               ...                  ...       ...                  ...   \n99                97    +55 (11) 344-4444      3364    +55 (11) 333-2223   \n100               98    +55 (11) 344-4444      1442    +55 (11) 333-2223   \n101               99  +358(0)17 - 433 127       489  +358(0)17 - 433 129   \n102             1008            611956077       398            611956077   \n103             1008            611956077       398            611956077   \n\n                       EMAIL  \n0    TSavolainen@grtd123.com  \n1           CKim@grtd123.com  \n2          JChoi@grtd123.com  \n3          KKwao@grtd123.com  \n4           CFon@grtd123.com  \n..                       ...  \n99       VBarros@grtd123.com  \n100   EGuimaraes@grtd123.com  \n101    HLindholm@grtd123.com  \n102       hallo123@gmail.com  \n103       hallo123@gmail.com  \n\n[104 rows x 5 columns] FROM sales_staff;': near \"EXTENSION\": syntax error",
     "output_type": "error",
     "traceback": [
      "\u001b[1;31m---------------------------------------------------------------------------\u001b[0m",
      "\u001b[1;31mOperationalError\u001b[0m                          Traceback (most recent call last)",
      "File \u001b[1;32mc:\\Users\\mlvan\\AppData\\Local\\pypoetry\\Cache\\virtualenvs\\deds-portfolio-A0j0CiaO-py3.12\\Lib\\site-packages\\pandas\\io\\sql.py:2675\u001b[0m, in \u001b[0;36mSQLiteDatabase.execute\u001b[1;34m(self, sql, params)\u001b[0m\n\u001b[0;32m   2674\u001b[0m \u001b[38;5;28;01mtry\u001b[39;00m:\n\u001b[1;32m-> 2675\u001b[0m     \u001b[43mcur\u001b[49m\u001b[38;5;241;43m.\u001b[39;49m\u001b[43mexecute\u001b[49m\u001b[43m(\u001b[49m\u001b[43msql\u001b[49m\u001b[43m,\u001b[49m\u001b[43m \u001b[49m\u001b[38;5;241;43m*\u001b[39;49m\u001b[43margs\u001b[49m\u001b[43m)\u001b[49m\n\u001b[0;32m   2676\u001b[0m     \u001b[38;5;28;01mreturn\u001b[39;00m cur\n",
      "\u001b[1;31mOperationalError\u001b[0m: near \"EXTENSION\": syntax error",
      "\nThe above exception was the direct cause of the following exception:\n",
      "\u001b[1;31mDatabaseError\u001b[0m                             Traceback (most recent call last)",
      "Cell \u001b[1;32mIn[27], line 3\u001b[0m\n\u001b[0;32m      1\u001b[0m query \u001b[38;5;241m=\u001b[39m \u001b[38;5;124mf\u001b[39m\u001b[38;5;124m\"\u001b[39m\u001b[38;5;124mSELECT \u001b[39m\u001b[38;5;132;01m{\u001b[39;00mcontact_details\u001b[38;5;132;01m}\u001b[39;00m\u001b[38;5;124m FROM sales_staff;\u001b[39m\u001b[38;5;124m\"\u001b[39m\n\u001b[1;32m----> 3\u001b[0m selected_columns_df \u001b[38;5;241m=\u001b[39m \u001b[43mpd\u001b[49m\u001b[38;5;241;43m.\u001b[39;49m\u001b[43mread_sql_query\u001b[49m\u001b[43m(\u001b[49m\u001b[43mquery\u001b[49m\u001b[43m,\u001b[49m\u001b[43m \u001b[49m\u001b[43mdatabase_connection\u001b[49m\u001b[43m)\u001b[49m\n\u001b[0;32m      5\u001b[0m language_dict \u001b[38;5;241m=\u001b[39m {\u001b[38;5;241m0\u001b[39m: \u001b[38;5;124m'\u001b[39m\u001b[38;5;124mFR\u001b[39m\u001b[38;5;124m'\u001b[39m, \u001b[38;5;241m1\u001b[39m: \u001b[38;5;124m'\u001b[39m\u001b[38;5;124mFR\u001b[39m\u001b[38;5;124m'\u001b[39m, \u001b[38;5;241m2\u001b[39m: \u001b[38;5;124m'\u001b[39m\u001b[38;5;124mFR\u001b[39m\u001b[38;5;124m'\u001b[39m, \u001b[38;5;241m3\u001b[39m: \u001b[38;5;124m'\u001b[39m\u001b[38;5;124mDE\u001b[39m\u001b[38;5;124m'\u001b[39m, \u001b[38;5;241m4\u001b[39m: \u001b[38;5;124m'\u001b[39m\u001b[38;5;124mDE\u001b[39m\u001b[38;5;124m'\u001b[39m}\n\u001b[0;32m      6\u001b[0m second_language_series \u001b[38;5;241m=\u001b[39m selected_columns_df\u001b[38;5;241m.\u001b[39mindex\u001b[38;5;241m.\u001b[39mto_series()\u001b[38;5;241m.\u001b[39mmap(language_dict)\u001b[38;5;241m.\u001b[39mrename(\u001b[38;5;124m'\u001b[39m\u001b[38;5;124mSECOND_LANGUAGE\u001b[39m\u001b[38;5;124m'\u001b[39m)\n",
      "File \u001b[1;32mc:\\Users\\mlvan\\AppData\\Local\\pypoetry\\Cache\\virtualenvs\\deds-portfolio-A0j0CiaO-py3.12\\Lib\\site-packages\\pandas\\io\\sql.py:526\u001b[0m, in \u001b[0;36mread_sql_query\u001b[1;34m(sql, con, index_col, coerce_float, params, parse_dates, chunksize, dtype, dtype_backend)\u001b[0m\n\u001b[0;32m    523\u001b[0m \u001b[38;5;28;01massert\u001b[39;00m dtype_backend \u001b[38;5;129;01mis\u001b[39;00m \u001b[38;5;129;01mnot\u001b[39;00m lib\u001b[38;5;241m.\u001b[39mno_default\n\u001b[0;32m    525\u001b[0m \u001b[38;5;28;01mwith\u001b[39;00m pandasSQL_builder(con) \u001b[38;5;28;01mas\u001b[39;00m pandas_sql:\n\u001b[1;32m--> 526\u001b[0m     \u001b[38;5;28;01mreturn\u001b[39;00m \u001b[43mpandas_sql\u001b[49m\u001b[38;5;241;43m.\u001b[39;49m\u001b[43mread_query\u001b[49m\u001b[43m(\u001b[49m\n\u001b[0;32m    527\u001b[0m \u001b[43m        \u001b[49m\u001b[43msql\u001b[49m\u001b[43m,\u001b[49m\n\u001b[0;32m    528\u001b[0m \u001b[43m        \u001b[49m\u001b[43mindex_col\u001b[49m\u001b[38;5;241;43m=\u001b[39;49m\u001b[43mindex_col\u001b[49m\u001b[43m,\u001b[49m\n\u001b[0;32m    529\u001b[0m \u001b[43m        \u001b[49m\u001b[43mparams\u001b[49m\u001b[38;5;241;43m=\u001b[39;49m\u001b[43mparams\u001b[49m\u001b[43m,\u001b[49m\n\u001b[0;32m    530\u001b[0m \u001b[43m        \u001b[49m\u001b[43mcoerce_float\u001b[49m\u001b[38;5;241;43m=\u001b[39;49m\u001b[43mcoerce_float\u001b[49m\u001b[43m,\u001b[49m\n\u001b[0;32m    531\u001b[0m \u001b[43m        \u001b[49m\u001b[43mparse_dates\u001b[49m\u001b[38;5;241;43m=\u001b[39;49m\u001b[43mparse_dates\u001b[49m\u001b[43m,\u001b[49m\n\u001b[0;32m    532\u001b[0m \u001b[43m        \u001b[49m\u001b[43mchunksize\u001b[49m\u001b[38;5;241;43m=\u001b[39;49m\u001b[43mchunksize\u001b[49m\u001b[43m,\u001b[49m\n\u001b[0;32m    533\u001b[0m \u001b[43m        \u001b[49m\u001b[43mdtype\u001b[49m\u001b[38;5;241;43m=\u001b[39;49m\u001b[43mdtype\u001b[49m\u001b[43m,\u001b[49m\n\u001b[0;32m    534\u001b[0m \u001b[43m        \u001b[49m\u001b[43mdtype_backend\u001b[49m\u001b[38;5;241;43m=\u001b[39;49m\u001b[43mdtype_backend\u001b[49m\u001b[43m,\u001b[49m\n\u001b[0;32m    535\u001b[0m \u001b[43m    \u001b[49m\u001b[43m)\u001b[49m\n",
      "File \u001b[1;32mc:\\Users\\mlvan\\AppData\\Local\\pypoetry\\Cache\\virtualenvs\\deds-portfolio-A0j0CiaO-py3.12\\Lib\\site-packages\\pandas\\io\\sql.py:2739\u001b[0m, in \u001b[0;36mSQLiteDatabase.read_query\u001b[1;34m(self, sql, index_col, coerce_float, parse_dates, params, chunksize, dtype, dtype_backend)\u001b[0m\n\u001b[0;32m   2728\u001b[0m \u001b[38;5;28;01mdef\u001b[39;00m \u001b[38;5;21mread_query\u001b[39m(\n\u001b[0;32m   2729\u001b[0m     \u001b[38;5;28mself\u001b[39m,\n\u001b[0;32m   2730\u001b[0m     sql,\n\u001b[1;32m   (...)\u001b[0m\n\u001b[0;32m   2737\u001b[0m     dtype_backend: DtypeBackend \u001b[38;5;241m|\u001b[39m Literal[\u001b[38;5;124m\"\u001b[39m\u001b[38;5;124mnumpy\u001b[39m\u001b[38;5;124m\"\u001b[39m] \u001b[38;5;241m=\u001b[39m \u001b[38;5;124m\"\u001b[39m\u001b[38;5;124mnumpy\u001b[39m\u001b[38;5;124m\"\u001b[39m,\n\u001b[0;32m   2738\u001b[0m ) \u001b[38;5;241m-\u001b[39m\u001b[38;5;241m>\u001b[39m DataFrame \u001b[38;5;241m|\u001b[39m Iterator[DataFrame]:\n\u001b[1;32m-> 2739\u001b[0m     cursor \u001b[38;5;241m=\u001b[39m \u001b[38;5;28;43mself\u001b[39;49m\u001b[38;5;241;43m.\u001b[39;49m\u001b[43mexecute\u001b[49m\u001b[43m(\u001b[49m\u001b[43msql\u001b[49m\u001b[43m,\u001b[49m\u001b[43m \u001b[49m\u001b[43mparams\u001b[49m\u001b[43m)\u001b[49m\n\u001b[0;32m   2740\u001b[0m     columns \u001b[38;5;241m=\u001b[39m [col_desc[\u001b[38;5;241m0\u001b[39m] \u001b[38;5;28;01mfor\u001b[39;00m col_desc \u001b[38;5;129;01min\u001b[39;00m cursor\u001b[38;5;241m.\u001b[39mdescription]\n\u001b[0;32m   2742\u001b[0m     \u001b[38;5;28;01mif\u001b[39;00m chunksize \u001b[38;5;129;01mis\u001b[39;00m \u001b[38;5;129;01mnot\u001b[39;00m \u001b[38;5;28;01mNone\u001b[39;00m:\n",
      "File \u001b[1;32mc:\\Users\\mlvan\\AppData\\Local\\pypoetry\\Cache\\virtualenvs\\deds-portfolio-A0j0CiaO-py3.12\\Lib\\site-packages\\pandas\\io\\sql.py:2687\u001b[0m, in \u001b[0;36mSQLiteDatabase.execute\u001b[1;34m(self, sql, params)\u001b[0m\n\u001b[0;32m   2684\u001b[0m     \u001b[38;5;28;01mraise\u001b[39;00m ex \u001b[38;5;28;01mfrom\u001b[39;00m \u001b[38;5;21;01minner_exc\u001b[39;00m\n\u001b[0;32m   2686\u001b[0m ex \u001b[38;5;241m=\u001b[39m DatabaseError(\u001b[38;5;124mf\u001b[39m\u001b[38;5;124m\"\u001b[39m\u001b[38;5;124mExecution failed on sql \u001b[39m\u001b[38;5;124m'\u001b[39m\u001b[38;5;132;01m{\u001b[39;00msql\u001b[38;5;132;01m}\u001b[39;00m\u001b[38;5;124m'\u001b[39m\u001b[38;5;124m: \u001b[39m\u001b[38;5;132;01m{\u001b[39;00mexc\u001b[38;5;132;01m}\u001b[39;00m\u001b[38;5;124m\"\u001b[39m)\n\u001b[1;32m-> 2687\u001b[0m \u001b[38;5;28;01mraise\u001b[39;00m ex \u001b[38;5;28;01mfrom\u001b[39;00m \u001b[38;5;21;01mexc\u001b[39;00m\n",
      "\u001b[1;31mDatabaseError\u001b[0m: Execution failed on sql 'SELECT     SALES_STAFF_CODE           WORK_PHONE EXTENSION                  FAX  \\\n0                100  +358(0)17 - 433 127       825  +358(0)17 - 433 129   \n1                101        82-2-778-6587      1228        82-2-778-6586   \n2                102        82-2-778-6587      2641        82-2-778-6586   \n3                103      886-2-2975-1988      1541      886-2-2989-4978   \n4                104      886-2-2975-1988      2311      886-2-2989-4978   \n..               ...                  ...       ...                  ...   \n99                97    +55 (11) 344-4444      3364    +55 (11) 333-2223   \n100               98    +55 (11) 344-4444      1442    +55 (11) 333-2223   \n101               99  +358(0)17 - 433 127       489  +358(0)17 - 433 129   \n102             1008            611956077       398            611956077   \n103             1008            611956077       398            611956077   \n\n                       EMAIL  \n0    TSavolainen@grtd123.com  \n1           CKim@grtd123.com  \n2          JChoi@grtd123.com  \n3          KKwao@grtd123.com  \n4           CFon@grtd123.com  \n..                       ...  \n99       VBarros@grtd123.com  \n100   EGuimaraes@grtd123.com  \n101    HLindholm@grtd123.com  \n102       hallo123@gmail.com  \n103       hallo123@gmail.com  \n\n[104 rows x 5 columns] FROM sales_staff;': near \"EXTENSION\": syntax error"
     ]
    }
   ],
   "source": [
    "query = f\"SELECT {contact_details} FROM sales_staff;\"\n",
    "\n",
    "selected_columns_df = pd.read_sql_query(query, database_connection)\n",
    "\n",
    "language_dict = {0: 'FR', 1: 'FR', 2: 'FR', 3: 'DE', 4: 'DE'}\n",
    "second_language_series = selected_columns_df.index.to_series().map(language_dict).rename('SECOND_LANGUAGE')\n",
    "\n",
    "result_df = pd.concat([selected_columns_df, languages_series, second_language_series], axis=1)\n",
    "\n",
    "print(result_df)"
   ]
  },
  {
   "cell_type": "markdown",
   "metadata": {},
   "source": [
    "Maak ten slotte de derde kolom ('THIRD_LANGUAGE') door een dictionary te maken met daarin...\n",
    "- Als key: de naam van de nieuwe kolom. Zie je het verschil qua keys met de vorige opdracht?\n",
    "- Als waarde: een lijst met daarin 'NL', 'NL', 'JPN', 'JPN', 'KOR'.\n",
    "\n",
    "Converteer deze dictionary nu naar een DataFrame en voeg deze horizontaal samen met het resultaat van de vorige opdracht.<br>\n",
    "Waarom hoef je hierna de nieuw ontstane kolom geen passende naam meer te geven?"
   ]
  },
  {
   "cell_type": "code",
   "execution_count": 28,
   "metadata": {},
   "outputs": [
    {
     "ename": "DatabaseError",
     "evalue": "Execution failed on sql 'SELECT     SALES_STAFF_CODE           WORK_PHONE EXTENSION                  FAX  \\\n0                100  +358(0)17 - 433 127       825  +358(0)17 - 433 129   \n1                101        82-2-778-6587      1228        82-2-778-6586   \n2                102        82-2-778-6587      2641        82-2-778-6586   \n3                103      886-2-2975-1988      1541      886-2-2989-4978   \n4                104      886-2-2975-1988      2311      886-2-2989-4978   \n..               ...                  ...       ...                  ...   \n99                97    +55 (11) 344-4444      3364    +55 (11) 333-2223   \n100               98    +55 (11) 344-4444      1442    +55 (11) 333-2223   \n101               99  +358(0)17 - 433 127       489  +358(0)17 - 433 129   \n102             1008            611956077       398            611956077   \n103             1008            611956077       398            611956077   \n\n                       EMAIL  \n0    TSavolainen@grtd123.com  \n1           CKim@grtd123.com  \n2          JChoi@grtd123.com  \n3          KKwao@grtd123.com  \n4           CFon@grtd123.com  \n..                       ...  \n99       VBarros@grtd123.com  \n100   EGuimaraes@grtd123.com  \n101    HLindholm@grtd123.com  \n102       hallo123@gmail.com  \n103       hallo123@gmail.com  \n\n[104 rows x 5 columns] FROM sales_staff;': near \"EXTENSION\": syntax error",
     "output_type": "error",
     "traceback": [
      "\u001b[1;31m---------------------------------------------------------------------------\u001b[0m",
      "\u001b[1;31mOperationalError\u001b[0m                          Traceback (most recent call last)",
      "File \u001b[1;32mc:\\Users\\mlvan\\AppData\\Local\\pypoetry\\Cache\\virtualenvs\\deds-portfolio-A0j0CiaO-py3.12\\Lib\\site-packages\\pandas\\io\\sql.py:2675\u001b[0m, in \u001b[0;36mSQLiteDatabase.execute\u001b[1;34m(self, sql, params)\u001b[0m\n\u001b[0;32m   2674\u001b[0m \u001b[38;5;28;01mtry\u001b[39;00m:\n\u001b[1;32m-> 2675\u001b[0m     \u001b[43mcur\u001b[49m\u001b[38;5;241;43m.\u001b[39;49m\u001b[43mexecute\u001b[49m\u001b[43m(\u001b[49m\u001b[43msql\u001b[49m\u001b[43m,\u001b[49m\u001b[43m \u001b[49m\u001b[38;5;241;43m*\u001b[39;49m\u001b[43margs\u001b[49m\u001b[43m)\u001b[49m\n\u001b[0;32m   2676\u001b[0m     \u001b[38;5;28;01mreturn\u001b[39;00m cur\n",
      "\u001b[1;31mOperationalError\u001b[0m: near \"EXTENSION\": syntax error",
      "\nThe above exception was the direct cause of the following exception:\n",
      "\u001b[1;31mDatabaseError\u001b[0m                             Traceback (most recent call last)",
      "Cell \u001b[1;32mIn[28], line 3\u001b[0m\n\u001b[0;32m      1\u001b[0m query \u001b[38;5;241m=\u001b[39m \u001b[38;5;124mf\u001b[39m\u001b[38;5;124m\"\u001b[39m\u001b[38;5;124mSELECT \u001b[39m\u001b[38;5;132;01m{\u001b[39;00mcontact_details\u001b[38;5;132;01m}\u001b[39;00m\u001b[38;5;124m FROM sales_staff;\u001b[39m\u001b[38;5;124m\"\u001b[39m\n\u001b[1;32m----> 3\u001b[0m selected_columns_df \u001b[38;5;241m=\u001b[39m \u001b[43mpd\u001b[49m\u001b[38;5;241;43m.\u001b[39;49m\u001b[43mread_sql_query\u001b[49m\u001b[43m(\u001b[49m\u001b[43mquery\u001b[49m\u001b[43m,\u001b[49m\u001b[43m \u001b[49m\u001b[43mdatabase_connection\u001b[49m\u001b[43m)\u001b[49m\n\u001b[0;32m      5\u001b[0m third_language_dict \u001b[38;5;241m=\u001b[39m {\u001b[38;5;124m'\u001b[39m\u001b[38;5;124mTHIRD_LANGUAGE\u001b[39m\u001b[38;5;124m'\u001b[39m: [\u001b[38;5;124m'\u001b[39m\u001b[38;5;124mNL\u001b[39m\u001b[38;5;124m'\u001b[39m, \u001b[38;5;124m'\u001b[39m\u001b[38;5;124mNL\u001b[39m\u001b[38;5;124m'\u001b[39m, \u001b[38;5;124m'\u001b[39m\u001b[38;5;124mJPN\u001b[39m\u001b[38;5;124m'\u001b[39m, \u001b[38;5;124m'\u001b[39m\u001b[38;5;124mJPN\u001b[39m\u001b[38;5;124m'\u001b[39m, \u001b[38;5;124m'\u001b[39m\u001b[38;5;124mKOR\u001b[39m\u001b[38;5;124m'\u001b[39m]}\n\u001b[0;32m      6\u001b[0m third_language_df \u001b[38;5;241m=\u001b[39m pd\u001b[38;5;241m.\u001b[39mDataFrame(third_language_dict)\n",
      "File \u001b[1;32mc:\\Users\\mlvan\\AppData\\Local\\pypoetry\\Cache\\virtualenvs\\deds-portfolio-A0j0CiaO-py3.12\\Lib\\site-packages\\pandas\\io\\sql.py:526\u001b[0m, in \u001b[0;36mread_sql_query\u001b[1;34m(sql, con, index_col, coerce_float, params, parse_dates, chunksize, dtype, dtype_backend)\u001b[0m\n\u001b[0;32m    523\u001b[0m \u001b[38;5;28;01massert\u001b[39;00m dtype_backend \u001b[38;5;129;01mis\u001b[39;00m \u001b[38;5;129;01mnot\u001b[39;00m lib\u001b[38;5;241m.\u001b[39mno_default\n\u001b[0;32m    525\u001b[0m \u001b[38;5;28;01mwith\u001b[39;00m pandasSQL_builder(con) \u001b[38;5;28;01mas\u001b[39;00m pandas_sql:\n\u001b[1;32m--> 526\u001b[0m     \u001b[38;5;28;01mreturn\u001b[39;00m \u001b[43mpandas_sql\u001b[49m\u001b[38;5;241;43m.\u001b[39;49m\u001b[43mread_query\u001b[49m\u001b[43m(\u001b[49m\n\u001b[0;32m    527\u001b[0m \u001b[43m        \u001b[49m\u001b[43msql\u001b[49m\u001b[43m,\u001b[49m\n\u001b[0;32m    528\u001b[0m \u001b[43m        \u001b[49m\u001b[43mindex_col\u001b[49m\u001b[38;5;241;43m=\u001b[39;49m\u001b[43mindex_col\u001b[49m\u001b[43m,\u001b[49m\n\u001b[0;32m    529\u001b[0m \u001b[43m        \u001b[49m\u001b[43mparams\u001b[49m\u001b[38;5;241;43m=\u001b[39;49m\u001b[43mparams\u001b[49m\u001b[43m,\u001b[49m\n\u001b[0;32m    530\u001b[0m \u001b[43m        \u001b[49m\u001b[43mcoerce_float\u001b[49m\u001b[38;5;241;43m=\u001b[39;49m\u001b[43mcoerce_float\u001b[49m\u001b[43m,\u001b[49m\n\u001b[0;32m    531\u001b[0m \u001b[43m        \u001b[49m\u001b[43mparse_dates\u001b[49m\u001b[38;5;241;43m=\u001b[39;49m\u001b[43mparse_dates\u001b[49m\u001b[43m,\u001b[49m\n\u001b[0;32m    532\u001b[0m \u001b[43m        \u001b[49m\u001b[43mchunksize\u001b[49m\u001b[38;5;241;43m=\u001b[39;49m\u001b[43mchunksize\u001b[49m\u001b[43m,\u001b[49m\n\u001b[0;32m    533\u001b[0m \u001b[43m        \u001b[49m\u001b[43mdtype\u001b[49m\u001b[38;5;241;43m=\u001b[39;49m\u001b[43mdtype\u001b[49m\u001b[43m,\u001b[49m\n\u001b[0;32m    534\u001b[0m \u001b[43m        \u001b[49m\u001b[43mdtype_backend\u001b[49m\u001b[38;5;241;43m=\u001b[39;49m\u001b[43mdtype_backend\u001b[49m\u001b[43m,\u001b[49m\n\u001b[0;32m    535\u001b[0m \u001b[43m    \u001b[49m\u001b[43m)\u001b[49m\n",
      "File \u001b[1;32mc:\\Users\\mlvan\\AppData\\Local\\pypoetry\\Cache\\virtualenvs\\deds-portfolio-A0j0CiaO-py3.12\\Lib\\site-packages\\pandas\\io\\sql.py:2739\u001b[0m, in \u001b[0;36mSQLiteDatabase.read_query\u001b[1;34m(self, sql, index_col, coerce_float, parse_dates, params, chunksize, dtype, dtype_backend)\u001b[0m\n\u001b[0;32m   2728\u001b[0m \u001b[38;5;28;01mdef\u001b[39;00m \u001b[38;5;21mread_query\u001b[39m(\n\u001b[0;32m   2729\u001b[0m     \u001b[38;5;28mself\u001b[39m,\n\u001b[0;32m   2730\u001b[0m     sql,\n\u001b[1;32m   (...)\u001b[0m\n\u001b[0;32m   2737\u001b[0m     dtype_backend: DtypeBackend \u001b[38;5;241m|\u001b[39m Literal[\u001b[38;5;124m\"\u001b[39m\u001b[38;5;124mnumpy\u001b[39m\u001b[38;5;124m\"\u001b[39m] \u001b[38;5;241m=\u001b[39m \u001b[38;5;124m\"\u001b[39m\u001b[38;5;124mnumpy\u001b[39m\u001b[38;5;124m\"\u001b[39m,\n\u001b[0;32m   2738\u001b[0m ) \u001b[38;5;241m-\u001b[39m\u001b[38;5;241m>\u001b[39m DataFrame \u001b[38;5;241m|\u001b[39m Iterator[DataFrame]:\n\u001b[1;32m-> 2739\u001b[0m     cursor \u001b[38;5;241m=\u001b[39m \u001b[38;5;28;43mself\u001b[39;49m\u001b[38;5;241;43m.\u001b[39;49m\u001b[43mexecute\u001b[49m\u001b[43m(\u001b[49m\u001b[43msql\u001b[49m\u001b[43m,\u001b[49m\u001b[43m \u001b[49m\u001b[43mparams\u001b[49m\u001b[43m)\u001b[49m\n\u001b[0;32m   2740\u001b[0m     columns \u001b[38;5;241m=\u001b[39m [col_desc[\u001b[38;5;241m0\u001b[39m] \u001b[38;5;28;01mfor\u001b[39;00m col_desc \u001b[38;5;129;01min\u001b[39;00m cursor\u001b[38;5;241m.\u001b[39mdescription]\n\u001b[0;32m   2742\u001b[0m     \u001b[38;5;28;01mif\u001b[39;00m chunksize \u001b[38;5;129;01mis\u001b[39;00m \u001b[38;5;129;01mnot\u001b[39;00m \u001b[38;5;28;01mNone\u001b[39;00m:\n",
      "File \u001b[1;32mc:\\Users\\mlvan\\AppData\\Local\\pypoetry\\Cache\\virtualenvs\\deds-portfolio-A0j0CiaO-py3.12\\Lib\\site-packages\\pandas\\io\\sql.py:2687\u001b[0m, in \u001b[0;36mSQLiteDatabase.execute\u001b[1;34m(self, sql, params)\u001b[0m\n\u001b[0;32m   2684\u001b[0m     \u001b[38;5;28;01mraise\u001b[39;00m ex \u001b[38;5;28;01mfrom\u001b[39;00m \u001b[38;5;21;01minner_exc\u001b[39;00m\n\u001b[0;32m   2686\u001b[0m ex \u001b[38;5;241m=\u001b[39m DatabaseError(\u001b[38;5;124mf\u001b[39m\u001b[38;5;124m\"\u001b[39m\u001b[38;5;124mExecution failed on sql \u001b[39m\u001b[38;5;124m'\u001b[39m\u001b[38;5;132;01m{\u001b[39;00msql\u001b[38;5;132;01m}\u001b[39;00m\u001b[38;5;124m'\u001b[39m\u001b[38;5;124m: \u001b[39m\u001b[38;5;132;01m{\u001b[39;00mexc\u001b[38;5;132;01m}\u001b[39;00m\u001b[38;5;124m\"\u001b[39m)\n\u001b[1;32m-> 2687\u001b[0m \u001b[38;5;28;01mraise\u001b[39;00m ex \u001b[38;5;28;01mfrom\u001b[39;00m \u001b[38;5;21;01mexc\u001b[39;00m\n",
      "\u001b[1;31mDatabaseError\u001b[0m: Execution failed on sql 'SELECT     SALES_STAFF_CODE           WORK_PHONE EXTENSION                  FAX  \\\n0                100  +358(0)17 - 433 127       825  +358(0)17 - 433 129   \n1                101        82-2-778-6587      1228        82-2-778-6586   \n2                102        82-2-778-6587      2641        82-2-778-6586   \n3                103      886-2-2975-1988      1541      886-2-2989-4978   \n4                104      886-2-2975-1988      2311      886-2-2989-4978   \n..               ...                  ...       ...                  ...   \n99                97    +55 (11) 344-4444      3364    +55 (11) 333-2223   \n100               98    +55 (11) 344-4444      1442    +55 (11) 333-2223   \n101               99  +358(0)17 - 433 127       489  +358(0)17 - 433 129   \n102             1008            611956077       398            611956077   \n103             1008            611956077       398            611956077   \n\n                       EMAIL  \n0    TSavolainen@grtd123.com  \n1           CKim@grtd123.com  \n2          JChoi@grtd123.com  \n3          KKwao@grtd123.com  \n4           CFon@grtd123.com  \n..                       ...  \n99       VBarros@grtd123.com  \n100   EGuimaraes@grtd123.com  \n101    HLindholm@grtd123.com  \n102       hallo123@gmail.com  \n103       hallo123@gmail.com  \n\n[104 rows x 5 columns] FROM sales_staff;': near \"EXTENSION\": syntax error"
     ]
    }
   ],
   "source": [
    "query = f\"SELECT {contact_details} FROM sales_staff;\"\n",
    "\n",
    "selected_columns_df = pd.read_sql_query(query, database_connection)\n",
    "\n",
    "third_language_dict = {'THIRD_LANGUAGE': ['NL', 'NL', 'JPN', 'JPN', 'KOR']}\n",
    "third_language_df = pd.DataFrame(third_language_dict)\n",
    "\n",
    "result_df = pd.concat([selected_columns_df, languages_series, second_language_series, third_language_df], axis=1)\n",
    "\n",
    "print(result_df)"
   ]
  },
  {
   "cell_type": "markdown",
   "metadata": {},
   "source": [
    "## Data toevoegen"
   ]
  },
  {
   "cell_type": "markdown",
   "metadata": {},
   "source": [
    "### Rijen"
   ]
  },
  {
   "cell_type": "markdown",
   "metadata": {},
   "source": [
    "Gebruik de originele databasetabel *sales_staff*.<br>\n",
    "Voeg een extra rij toe met eigen invulling. Zorg ervoor dat de index netjes doorloopt.<br>\n",
    "Hulpvraag: welke waarde geef je nu aan axis?"
   ]
  },
  {
   "cell_type": "code",
   "execution_count": 29,
   "metadata": {},
   "outputs": [
    {
     "name": "stdout",
     "output_type": "stream",
     "text": [
      "    SALES_STAFF_CODE FIRST_NAME       LAST_NAME                   POSITION_EN  \\\n",
      "0                100     Tuomas      Savolainen  Level 2 Sales Representative   \n",
      "1                101   Chang-ho             Kim  Level 2 Sales Representative   \n",
      "2                102    Jung-ho            Choi  Level 3 Sales Representative   \n",
      "3                103  Kwei-Ping             Kao  Level 2 Sales Representative   \n",
      "4                104  Chin-Tsai            Fang  Level 3 Sales Representative   \n",
      "..               ...        ...             ...                           ...   \n",
      "100               98    Eduardo       Guimarães  Level 2 Sales Representative   \n",
      "101               99     Helena        Lindholm  Level 3 Sales Representative   \n",
      "102             1008      Milan  van Heijningen                Branch Manager   \n",
      "103             1008      Milan  van Heijningen                Branch Manager   \n",
      "104             1010      Milan  van Heijningen                Branch Manager   \n",
      "\n",
      "              WORK_PHONE EXTENSION                  FAX  \\\n",
      "0    +358(0)17 - 433 127       825  +358(0)17 - 433 129   \n",
      "1          82-2-778-6587      1228        82-2-778-6586   \n",
      "2          82-2-778-6587      2641        82-2-778-6586   \n",
      "3        886-2-2975-1988      1541      886-2-2989-4978   \n",
      "4        886-2-2975-1988      2311      886-2-2989-4978   \n",
      "..                   ...       ...                  ...   \n",
      "100    +55 (11) 344-4444      1442    +55 (11) 333-2223   \n",
      "101  +358(0)17 - 433 127       489  +358(0)17 - 433 129   \n",
      "102            611956077       398            611956077   \n",
      "103            611956077       398            611956077   \n",
      "104            611956077       398            611956077   \n",
      "\n",
      "                       EMAIL  DATE_HIRED SALES_BRANCH_CODE TRIAL888  \\\n",
      "0    TSavolainen@grtd123.com   23-7-2014                31        T   \n",
      "1           CKim@grtd123.com  15-12-2014                32        T   \n",
      "2          JChoi@grtd123.com  27-11-2014                32        T   \n",
      "3          KKwao@grtd123.com   7-10-2014                33        T   \n",
      "4           CFon@grtd123.com    8-5-2012                33        T   \n",
      "..                       ...         ...               ...      ...   \n",
      "100   EGuimaraes@grtd123.com   14-2-2015                30        T   \n",
      "101    HLindholm@grtd123.com   17-8-2013                31        T   \n",
      "102       hallo123@gmail.com       -2005                35        T   \n",
      "103       hallo123@gmail.com       -2005                35        T   \n",
      "104       hallo123@gmail.com       -2005                35        T   \n",
      "\n",
      "                FULL_NAME  \n",
      "0       Tuomas Savolainen  \n",
      "1            Chang-ho Kim  \n",
      "2            Jung-ho Choi  \n",
      "3           Kwei-Ping Kao  \n",
      "4          Chin-Tsai Fang  \n",
      "..                    ...  \n",
      "100     Eduardo Guimarães  \n",
      "101       Helena Lindholm  \n",
      "102  Milan van Heijningen  \n",
      "103  Milan van Heijningen  \n",
      "104                  None  \n",
      "\n",
      "[105 rows x 12 columns]\n"
     ]
    }
   ],
   "source": [
    "new_row_values = ('1010', 'Milan', 'van Heijningen', 'Branch Manager', 611956077 , 398, 611956077, 'hallo123@gmail.com', 12-8-2009, 35, 'T')\n",
    "cursor = database_connection.cursor()\n",
    "cursor.execute(\"INSERT INTO sales_staff (sales_staff_code, first_name, last_name, position_en, work_phone, extension, fax, email, date_hired, sales_branch_code, trial888) VALUES (?, ?, ?, ?, ?, ?, ?, ?, ?, ?, ?)\", new_row_values)\n",
    "\n",
    "query = f\"SELECT * FROM sales_staff;\"\n",
    "\n",
    "sales_staff_print = pd.read_sql_query(query, database_connection)\n",
    "\n",
    "print(sales_staff_print)"
   ]
  },
  {
   "cell_type": "markdown",
   "metadata": {},
   "source": [
    "### Kolommen"
   ]
  },
  {
   "cell_type": "markdown",
   "metadata": {},
   "source": [
    "Voeg een kolom *FULL_NAME* toe die de waarden van *FIRST_NAME* en *LAST_NAME* achter elkaar zet, gescheiden door een spatie."
   ]
  },
  {
   "cell_type": "code",
   "execution_count": 30,
   "metadata": {},
   "outputs": [
    {
     "name": "stdout",
     "output_type": "stream",
     "text": [
      "0         Tuomas Savolainen\n",
      "1              Chang-ho Kim\n",
      "2              Jung-ho Choi\n",
      "3             Kwei-Ping Kao\n",
      "4            Chin-Tsai Fang\n",
      "               ...         \n",
      "100       Eduardo Guimarães\n",
      "101         Helena Lindholm\n",
      "102    Milan van Heijningen\n",
      "103    Milan van Heijningen\n",
      "104    Milan van Heijningen\n",
      "Name: FULL_NAME, Length: 105, dtype: object\n"
     ]
    }
   ],
   "source": [
    "'''\n",
    "cursor = database_connection.cursor()\n",
    "\n",
    "sql_query = 'ALTER TABLE sales_staff ADD COLUMN FULL_NAME TEXT, UPDATE sales_staff SET FULL_NAME = FIRST_NAME || ' ' || LAST_NAME;'\n",
    "\n",
    "cursor.executescript(sql_query)\n",
    "\n",
    "database_connection.commit()\n",
    "'''\n",
    "\n",
    "sql_query = \"SELECT * FROM sales_staff;\"\n",
    "\n",
    "df = pd.read_sql_query(sql_query, database_connection)\n",
    "\n",
    "df['FULL_NAME'] = df['FIRST_NAME'] + ' ' + df['LAST_NAME']\n",
    "\n",
    "df.to_sql('sales_staff', database_connection, index=False, if_exists='replace')\n",
    "\n",
    "print(df['FULL_NAME'])"
   ]
  },
  {
   "cell_type": "markdown",
   "metadata": {},
   "source": [
    "## Data wijzigen"
   ]
  },
  {
   "cell_type": "markdown",
   "metadata": {},
   "source": [
    "### Datatypen"
   ]
  },
  {
   "cell_type": "markdown",
   "metadata": {},
   "source": [
    "Door het attribuut .dtypes van een DataFrame op te vragen krijg je een serie die per kolom het datatype weergeeft. Doe dit bij de originele databasetabel *sales_staff*"
   ]
  },
  {
   "cell_type": "code",
   "execution_count": 16,
   "metadata": {},
   "outputs": [
    {
     "data": {
      "text/plain": [
       "SALES_STAFF_CODE      object\n",
       "FIRST_NAME            object\n",
       "LAST_NAME             object\n",
       "POSITION_EN           object\n",
       "WORK_PHONE            object\n",
       "EXTENSION            float64\n",
       "FAX                   object\n",
       "EMAIL                 object\n",
       "DATE_HIRED            object\n",
       "SALES_BRANCH_CODE     object\n",
       "TRIAL888              object\n",
       "FULL_NAME             object\n",
       "dtype: object"
      ]
     },
     "execution_count": 16,
     "metadata": {},
     "output_type": "execute_result"
    }
   ],
   "source": [
    "sales_staff.dtypes"
   ]
  },
  {
   "cell_type": "markdown",
   "metadata": {},
   "source": [
    "Hier valt op dat elke kolom het datatype 'object' heeft: Python leest dus alles als string. Wiskundige operaties zijn hierdoor niet mogelijk.<br>\n",
    "We kunnen proberen om kolommen met getallen, bijvoorbeeld de 'extension', te converteren naar een int. Zie onderstaande code."
   ]
  },
  {
   "cell_type": "code",
   "execution_count": null,
   "metadata": {},
   "outputs": [],
   "source": [
    "sales_staff['EXTENSION'] = sales_staff['EXTENSION'].astype(int)\n",
    "sales_staff.dtypes"
   ]
  },
  {
   "cell_type": "markdown",
   "metadata": {},
   "source": [
    "Dit lukt echter niet, omdat er in de kolom 'EXTENSION' lege waarden zitten die niet geconverteerd kunnen worden naar een int.<br>\n",
    "Wél kan je deze naar een float converteren, zie onderstaande code:"
   ]
  },
  {
   "cell_type": "code",
   "execution_count": 32,
   "metadata": {},
   "outputs": [
    {
     "data": {
      "text/plain": [
       "SALES_STAFF_CODE      object\n",
       "FIRST_NAME            object\n",
       "LAST_NAME             object\n",
       "POSITION_EN           object\n",
       "WORK_PHONE            object\n",
       "EXTENSION            float64\n",
       "FAX                   object\n",
       "EMAIL                 object\n",
       "DATE_HIRED            object\n",
       "SALES_BRANCH_CODE     object\n",
       "TRIAL888              object\n",
       "FULL_NAME             object\n",
       "dtype: object"
      ]
     },
     "execution_count": 32,
     "metadata": {},
     "output_type": "execute_result"
    }
   ],
   "source": [
    "sales_staff['EXTENSION'] = sales_staff['EXTENSION'].astype(float)\n",
    "sales_staff.dtypes"
   ]
  },
  {
   "cell_type": "markdown",
   "metadata": {},
   "source": [
    "Als we in de rij van 'EXTENSION' kijken zien we dat de conversie van het datatype nu is gelukt.<br>\n",
    "Dit is <b>randvoorwaardelijk</b> voor het uitvoeren van wiskundige operaties.<br>"
   ]
  },
  {
   "cell_type": "markdown",
   "metadata": {},
   "source": [
    "### Rijen"
   ]
  },
  {
   "cell_type": "markdown",
   "metadata": {},
   "source": [
    "Zorg er nu voor dat bij alle extensions 1 wordt opgeteld."
   ]
  },
  {
   "cell_type": "code",
   "execution_count": null,
   "metadata": {},
   "outputs": [],
   "source": []
  },
  {
   "cell_type": "markdown",
   "metadata": {},
   "source": [
    "Elke 'Branch Manager' wordt nu 'General Manager'. Schrijf code zodat deze wijziging doorgevoerd wordt in het DataFrame."
   ]
  },
  {
   "cell_type": "code",
   "execution_count": null,
   "metadata": {},
   "outputs": [],
   "source": []
  },
  {
   "cell_type": "markdown",
   "metadata": {},
   "source": [
    "### Kolommen"
   ]
  },
  {
   "cell_type": "markdown",
   "metadata": {},
   "source": [
    "Verander de kolomnaam 'POSITION_EN' naar 'POSITION'."
   ]
  },
  {
   "cell_type": "code",
   "execution_count": null,
   "metadata": {},
   "outputs": [],
   "source": []
  },
  {
   "cell_type": "markdown",
   "metadata": {},
   "source": [
    "## Data verwijderen"
   ]
  },
  {
   "cell_type": "markdown",
   "metadata": {},
   "source": [
    "### Rijen"
   ]
  },
  {
   "cell_type": "markdown",
   "metadata": {},
   "source": [
    "De medewerkers op indexen 99, 100 en 101 hebben helaas ontslag genomen.<br>\n",
    "Verwijder de bijbehorende rijen uit het DataFrame. Gebruik slechts één keer de .drop()-methode."
   ]
  },
  {
   "cell_type": "code",
   "execution_count": null,
   "metadata": {},
   "outputs": [],
   "source": []
  },
  {
   "cell_type": "markdown",
   "metadata": {},
   "source": [
    "### Kolommen"
   ]
  },
  {
   "cell_type": "markdown",
   "metadata": {},
   "source": [
    "Faxen zijn inmiddels ouderwets: niemand gebruikt zijn/haar faxnummer nog.<br>\n",
    "Verwijder de bijbehorende kolom uit het DataFrame."
   ]
  },
  {
   "cell_type": "code",
   "execution_count": null,
   "metadata": {},
   "outputs": [],
   "source": []
  }
 ],
 "metadata": {
  "kernelspec": {
   "display_name": "python-in-deds-P4iSP_yI-py3.11",
   "language": "python",
   "name": "python3"
  },
  "language_info": {
   "codemirror_mode": {
    "name": "ipython",
    "version": 3
   },
   "file_extension": ".py",
   "mimetype": "text/x-python",
   "name": "python",
   "nbconvert_exporter": "python",
   "pygments_lexer": "ipython3",
   "version": "3.12.2"
  }
 },
 "nbformat": 4,
 "nbformat_minor": 2
}
